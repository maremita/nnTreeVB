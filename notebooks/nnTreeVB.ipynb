{
 "cells": [
  {
   "cell_type": "code",
   "execution_count": 1,
   "id": "28d2a387",
   "metadata": {},
   "outputs": [],
   "source": [
    "%load_ext autoreload\n",
    "%autoreload 2"
   ]
  },
  {
   "cell_type": "code",
   "execution_count": 2,
   "id": "746eb77b",
   "metadata": {},
   "outputs": [],
   "source": [
    "from nnTreeVB.data import evolve_seqs_full_homogeneity                                              \n",
    "from nnTreeVB.data import build_tree_from_nwk\n",
    "# from nnTreeVB.data import SeqCollection\n",
    "from nnTreeVB.data import build_msa_categorical\n",
    "\n",
    "from nnTreeVB.reports import plot_grads_weights_epochs\n",
    "\n",
    "from nnTreeVB.models import VB_nnTree\n",
    "\n",
    "import time\n",
    "import math\n",
    "import random\n",
    "import copy\n",
    "from pprint import pprint\n",
    "from collections import OrderedDict\n",
    "\n",
    "import numpy as np\n",
    "import torch\n",
    "import torch.nn as nn\n",
    "\n",
    "import matplotlib.pyplot as plt\n",
    "\n",
    "# import logomaker as lm\n",
    "# import pandas as pd\n",
    "# import seaborn as sns\n",
    "\n",
    "%matplotlib inline\n",
    "\n",
    "# torch.use_deterministic_algorithms(True)\n",
    "torch.set_printoptions(precision=4, sci_mode=False)"
   ]
  },
  {
   "cell_type": "code",
   "execution_count": 3,
   "id": "5208b1b0",
   "metadata": {},
   "outputs": [],
   "source": [
    "import warnings\n",
    "warnings.filterwarnings(\"ignore\", category=DeprecationWarning) \n",
    "warnings.filterwarnings(\"ignore\", category=UserWarning)\n",
    "warnings.filterwarnings('ignore', \"r'All-NaN (slice|axis) encountered'\")"
   ]
  },
  {
   "cell_type": "markdown",
   "id": "95b2574d",
   "metadata": {},
   "source": [
    "## Alignment simulation"
   ]
  },
  {
   "cell_type": "code",
   "execution_count": 4,
   "id": "dd22d380",
   "metadata": {},
   "outputs": [],
   "source": [
    "verbose = True"
   ]
  },
  {
   "cell_type": "code",
   "execution_count": 5,
   "id": "4323829a",
   "metadata": {},
   "outputs": [
    {
     "name": "stdout",
     "output_type": "stream",
     "text": [
      "Evolving new sequences with the amazing Pyvolve for None\n"
     ]
    }
   ],
   "source": [
    "# Data preparation\n",
    "alignment_len = 3000\n",
    "\n",
    "str_tree = \"(((1:0.3,2:0.7)N1:0.15,3:0.2)N2:0.1,4:0.4);\"\n",
    "# str_tree = \"(((tx1:0.3,tx2:0.7)N1:0.15,tx3:0.2)N2:0.1,tx4:0.4);\"\n",
    "# str_tree = \"(tx2:1.0411,tx4:0.8121,(tx1:1.1242,tx3:0.9130)N1:1.1095);\"\n",
    "# str_tree = \"((1:0.3,2:0.7)N1:0.15,3:0.2,4:0.4);\"\n",
    "# str_tree = \"((tx2:0.3,tx1:0.7)N1:0.15,tx3:0.2);\"\n",
    "# str_tree = \"(1:0.1,2:0.2,3:0.3,4:0.4);\"\n",
    "\n",
    "#            \"AG\"  \"AC\"  \"AT\"  \"GC\"  \"GT\" \"CT\"\n",
    "sim_rates = [0.16, 0.05, 0.16, 0.09, 0.3, 0.24]\n",
    "evo_rates = [0.16, 0.05, 0.16, 0.09, 0.3, 0.24]\n",
    "\n",
    "#             A     C    G     T\n",
    "sim_freqs = [0.1, 0.45, 0.3, 0.15]\n",
    "#             A     G    C     T\n",
    "evo_freqs = [0.1, 0.3, 0.45, 0.15]\n",
    "\n",
    "\n",
    "ete_tree, taxa, nodes = build_tree_from_nwk(str_tree)\n",
    "logl_tree = copy.copy(ete_tree)\n",
    "\n",
    "all_seqdict = evolve_seqs_full_homogeneity(\n",
    "        str_tree,\n",
    "        fasta_file=None,\n",
    "        nb_sites=alignment_len,\n",
    "        subst_rates=sim_rates,\n",
    "        state_freqs=sim_freqs,\n",
    "        return_anc=True,\n",
    "        verbose=verbose)\n",
    "\n",
    "sequences = [all_seqdict[s] for s in taxa]"
   ]
  },
  {
   "cell_type": "code",
   "execution_count": null,
   "id": "0502d412",
   "metadata": {},
   "outputs": [],
   "source": []
  },
  {
   "cell_type": "code",
   "execution_count": 6,
   "id": "0f39b65a",
   "metadata": {},
   "outputs": [],
   "source": [
    "device = torch.device(\"cpu\")\n",
    "# # device = torch.device(\"cuda\")"
   ]
  },
  {
   "cell_type": "code",
   "execution_count": 7,
   "id": "4b6ebd88",
   "metadata": {},
   "outputs": [
    {
     "name": "stdout",
     "output_type": "stream",
     "text": [
      "\n",
      "Frequencies\n",
      "tensor([0.1000, 0.3000, 0.4500, 0.1500])\n",
      "tensor(1.)\n",
      "\n",
      "Relative rates\n",
      "tensor([0.1600, 0.0500, 0.1600, 0.0900, 0.3000, 0.2400])\n",
      "tensor(1.)\n"
     ]
    }
   ],
   "source": [
    "gtr_freqs = torch.tensor(evo_freqs)\n",
    "print(\"\\nFrequencies\")\n",
    "print(gtr_freqs)\n",
    "print(gtr_freqs.sum())\n",
    "\n",
    "gtr_rates = torch.tensor(evo_rates) # AG, AC, AT, GC, GT, CT\n",
    "print(\"\\nRelative rates\")\n",
    "print(gtr_rates)\n",
    "print(gtr_rates.sum())"
   ]
  },
  {
   "cell_type": "code",
   "execution_count": 8,
   "id": "608cc491",
   "metadata": {},
   "outputs": [
    {
     "name": "stdout",
     "output_type": "stream",
     "text": [
      "\n",
      "true_branches\n",
      "tensor([[0.3000],\n",
      "        [0.7000],\n",
      "        [0.2000],\n",
      "        [0.4000],\n",
      "        [0.1500],\n",
      "        [0.1000]])\n",
      "tensor(1.8500)\n"
     ]
    }
   ],
   "source": [
    "true_branches = torch.zeros(len(ete_tree.get_descendants()))\n",
    "# print(true_branches.shape[0])\n",
    "\n",
    "for node in ete_tree.traverse(\"postorder\"):\n",
    "\n",
    "    if node.postrank < true_branches.shape[0]:\n",
    "#         print(node.name, node.rank, node.dist)\n",
    "        true_branches[node.postrank] = node.dist\n",
    "\n",
    "true_branches = true_branches.unsqueeze(-1)\n",
    "print(\"\\ntrue_branches\")\n",
    "print(true_branches)\n",
    "print(true_branches.sum())"
   ]
  },
  {
   "cell_type": "code",
   "execution_count": 9,
   "id": "a94f34ee",
   "metadata": {},
   "outputs": [
    {
     "data": {
      "text/plain": [
       "torch.Size([6, 1])"
      ]
     },
     "execution_count": 9,
     "metadata": {},
     "output_type": "execute_result"
    }
   ],
   "source": [
    "true_branches.shape"
   ]
  },
  {
   "cell_type": "code",
   "execution_count": 10,
   "id": "2dbfde6c",
   "metadata": {
    "scrolled": true
   },
   "outputs": [
    {
     "name": "stdout",
     "output_type": "stream",
     "text": [
      "torch.Size([235, 4, 4])\n",
      "tensor([ 10,  16,   9,   2,   6,  12,   2,   1,   4,   9,  11,   1,   2,   1,\n",
      "          2,  13,  22,  12,   1,  18,  50,  12,   5,   4,   9,  19,   2,   2,\n",
      "          7,  14,  14,  17,   1,   4,  14,   7,   6,  12,  28,   1,   1,   4,\n",
      "          2,   4,   2,   3,   2,   3,   4,   3,   1,   3,   1,   5,   1,   1,\n",
      "          2,   7,   9,  12,   7,   1,  14,  97,  17,   5,   5,   5,  12,   3,\n",
      "          2,   2,   1,   2,  23,  51,  24,   3,  76, 474,  77,  19,  11,  41,\n",
      "         35,   3,   3,   2,   3,   5,   6,  16,   4,   3,  19, 106,  19,   3,\n",
      "          8,  16,  30,   5,   1,   2,   2,   5,   3,   5,   3,   4,   7,  28,\n",
      "          3,   1,   3,   1,   3,   1,   2,   6,   9,  10,   5,   2,   2,  21,\n",
      "          5,   1,  16,  14,  49,   4,   1,   2,   2,  14,   9,  15,   2,   9,\n",
      "         55,  21,   1,  11,  24,  82,   6,   1,   6,   3,  16,  21,  13,   3,\n",
      "          8,  43,  16,   4,  29,  54, 202,  16,   1,   4,   8,  12,   2,   4,\n",
      "          3,   1,   6,   7,   8,   3,  19,   2,   2,   1,   2,   4,   2,   5,\n",
      "          7,   1,   3,   3,   4,   2,  17,   1,   3,   2,   1,   2,  10,   2,\n",
      "          2,   3,   3,   3,   1,   3,   7,   4,  14,   3,   1,   2,   2,  10,\n",
      "          3,   3,   2,   7,  13,   2,   6,   4,   5,  24,   1,   2,   1,   2,\n",
      "          3,   1,   2,   1,   3,   6,   6,   3,   6,  10,  55])\n"
     ]
    }
   ],
   "source": [
    "motifs_cats = build_msa_categorical(sequences)\n",
    "X = torch.from_numpy(motifs_cats.data)\n",
    "V = X.clone().detach()\n",
    "V_counts = torch.ones(V.shape[0]).detach()\n",
    "# X_counts = torch.ones(X.shape[0])\n",
    "X, X_counts = X.unique(dim=0, return_counts=True)\n",
    "\n",
    "print(X.shape)\n",
    "print(X_counts)"
   ]
  },
  {
   "cell_type": "markdown",
   "id": "0d4d5af1",
   "metadata": {},
   "source": [
    "## True log likelihood"
   ]
  },
  {
   "cell_type": "code",
   "execution_count": 11,
   "id": "7cb055ff",
   "metadata": {},
   "outputs": [
    {
     "data": {
      "text/plain": [
       "tensor(-11944.5176)"
      ]
     },
     "execution_count": 11,
     "metadata": {},
     "output_type": "execute_result"
    }
   ],
   "source": [
    "from nnTreeVB.models.evo_models import pruning\n",
    "from nnTreeVB.models.evo_models import build_GTR_transition_matrix\n",
    "\n",
    "tm = build_GTR_transition_matrix(true_branches.unsqueeze(0), \n",
    "                                 gtr_rates.unsqueeze(0), \n",
    "                                 gtr_freqs.unsqueeze(0))\n",
    "\n",
    "true_lls = (pruning(logl_tree, X.unsqueeze(0), tm, gtr_freqs.unsqueeze(0)) * X_counts).sum()\n",
    "true_lls"
   ]
  },
  {
   "cell_type": "markdown",
   "id": "b1d4e866",
   "metadata": {},
   "source": [
    "## nnTreeVB model initialization"
   ]
  },
  {
   "cell_type": "code",
   "execution_count": 12,
   "id": "cc7aa8d4",
   "metadata": {},
   "outputs": [
    {
     "name": "stdout",
     "output_type": "stream",
     "text": [
      "4\n"
     ]
    }
   ],
   "source": [
    "# Hyper parameters\n",
    "seed = 34432\n",
    "torch.manual_seed(seed)\n",
    "np.random.seed(seed)\n",
    "random.seed(seed)\n",
    "\n",
    "x_dim = 4\n",
    "# Number of sequences\n",
    "m_dim = len(ete_tree.get_leaf_names())\n",
    "# Number of internal nodes\n",
    "a_dim = len(ete_tree.get_descendants()) - m_dim + 1\n",
    "# Number of branches\n",
    "b_dim = len(ete_tree.get_edges()) - 1\n",
    "\n",
    "h_dim = 32\n",
    "nb_layers = 3\n",
    "\n",
    "# alpha_kl = 0.0001\n",
    "print(m_dim)"
   ]
  },
  {
   "cell_type": "code",
   "execution_count": 13,
   "id": "3514b439",
   "metadata": {},
   "outputs": [],
   "source": [
    "evoModel = VB_nnTree(\n",
    "    x_dim,\n",
    "    m_dim,\n",
    "    b_dim,\n",
    "    a_dim,\n",
    "    subs_model=\"gtr\",  # jc69 | k80 | hky | gtr\n",
    "    predict_ancestors=False,\n",
    "    \n",
    "    # branch lengths follows gamma\n",
    "    b_encoder_type=\"gamma_ind\",\n",
    "    b_init_distr=[0.1, 0.1],\n",
    "    b_hp=torch.tensor([0.1, 1.]),\n",
    "\n",
    "#     # branch lengths fixed\n",
    "#     b_encoder_type=\"fixed\",\n",
    "#     b_init_distr=true_branches.detach(),\n",
    "\n",
    "#     ## Compound branch lengths\n",
    "#     b_encoder_type=\"dirichlet_nn_ind\",\n",
    "#     b_init_distr=[1.]*b_dim,\n",
    "#     b_hp=[0.1]*b_dim,\n",
    "#     # Tree lengths\n",
    "#     t_encoder_type=\"gamma_nn_ind\",\n",
    "#     t_init_distr=[1., 1.],\n",
    "#     t_hp=[1., 1.],\n",
    "\n",
    "    # Tree length fixed\n",
    "#     t_encoder_type=\"fixed\",\n",
    "#     t_init_distr=torch.tensor([1.85]),\n",
    "    \n",
    "    # kappa\n",
    "#     k_encoder_type=\"gamma_nn_ind\",\n",
    "#     k_init_distr=[1., 0.1],\n",
    "#     k_hp=[0.1, 0.1],\n",
    "    \n",
    "#     k_encoder_type=\"fixed\",\n",
    "#     k_init_distr=torch.tensor([1.5]),\n",
    "    \n",
    "#     # rates\n",
    "#     r_encoder_type=\"dirichlet_ind\",\n",
    "#     r_init_distr=[0.1]*6,\n",
    "#     r_hp=torch.ones(6).tolist(),\n",
    "    \n",
    "    r_encoder_type=\"fixed\",\n",
    "    r_init_distr=gtr_rates.detach(),\n",
    "    \n",
    "#     # frequencies\n",
    "#     f_encoder_type=\"dirichlet_ind\",\n",
    "#     f_init_distr=[1.]*4,\n",
    "#     f_hp=torch.ones(4).tolist(),\n",
    "\n",
    "    f_encoder_type=\"fixed\",\n",
    "    f_init_distr=gtr_freqs.detach(),\n",
    "\n",
    "    #\n",
    "    h_dim=h_dim,\n",
    "    nb_layers=nb_layers,\n",
    "    device=device\n",
    ")"
   ]
  },
  {
   "cell_type": "code",
   "execution_count": 14,
   "id": "95af4376",
   "metadata": {},
   "outputs": [],
   "source": [
    "# Fitting parameters\n",
    "n_epochs = 1000\n",
    "learning_rate = 0.0005\n",
    "weight_decay = 0.000001\n",
    "\n",
    "nb_samples = 100\n",
    "sample_temp=0.1"
   ]
  },
  {
   "cell_type": "markdown",
   "id": "439a9c02",
   "metadata": {},
   "source": [
    "## nnTreeVB model fitting"
   ]
  },
  {
   "cell_type": "code",
   "execution_count": 15,
   "id": "089022ec",
   "metadata": {
    "scrolled": false
   },
   "outputs": [
    {
     "name": "stdout",
     "output_type": "stream",
     "text": [
      "0m 47s\t Train Epoch: 1000 \t ELBO: -21600.717\t Lls -18750.834\t KLs 2849.883\n",
      "Optimization rate 1.0\n"
     ]
    }
   ],
   "source": [
    "r = evoModel.fit(\n",
    "    copy.copy(ete_tree),\n",
    "    X, \n",
    "    X_counts,\n",
    "    elbo_type=\"elbo_kl\",\n",
    "    latent_sample_size=nb_samples,\n",
    "    max_iter=n_epochs,\n",
    "    optim=\"sgd\",\n",
    "    optim_learning_rate=learning_rate,\n",
    "    optim_weight_decay=weight_decay,\n",
    "    save_fit_history=True,\n",
    "    save_grad_stats=True,\n",
    "    save_weight_stats=True,\n",
    "    verbose=2\n",
    ")"
   ]
  },
  {
   "cell_type": "code",
   "execution_count": 16,
   "id": "1d6f0ebd",
   "metadata": {},
   "outputs": [],
   "source": [
    "s = evoModel.sample(copy.copy(ete_tree),\n",
    "    V, \n",
    "    V_counts,\n",
    "    elbo_type=\"elbo_kl\",\n",
    "    latent_sample_size=nb_samples\n",
    ")"
   ]
  },
  {
   "cell_type": "code",
   "execution_count": 17,
   "id": "9f1fe9c1",
   "metadata": {},
   "outputs": [
    {
     "name": "stdout",
     "output_type": "stream",
     "text": [
      "[[0.24776031]\n",
      " [0.39157864]\n",
      " [0.18117726]\n",
      " [0.24329676]\n",
      " [0.1153703 ]\n",
      " [0.10207451]]\n",
      "1.2812577\n"
     ]
    }
   ],
   "source": [
    "print(s[\"b\"].mean(0))\n",
    "print(s[\"b\"].mean(0).sum())"
   ]
  },
  {
   "cell_type": "code",
   "execution_count": 18,
   "id": "b51afb5f",
   "metadata": {},
   "outputs": [],
   "source": [
    "# print(s[\"b1\"].mean(0))\n",
    "# print(s[\"b1\"].mean(0).sum())"
   ]
  },
  {
   "cell_type": "code",
   "execution_count": 19,
   "id": "13d29f72",
   "metadata": {},
   "outputs": [
    {
     "name": "stdout",
     "output_type": "stream",
     "text": [
      "tensor([[0.3000],\n",
      "        [0.7000],\n",
      "        [0.2000],\n",
      "        [0.4000],\n",
      "        [0.1500],\n",
      "        [0.1000]])\n",
      "tensor(1.8500)\n"
     ]
    }
   ],
   "source": [
    "print(true_branches)\n",
    "print(true_branches.sum())"
   ]
  },
  {
   "cell_type": "code",
   "execution_count": null,
   "id": "20fbec0f",
   "metadata": {},
   "outputs": [],
   "source": [
    "# s[\"r\"].mean(0)"
   ]
  },
  {
   "cell_type": "code",
   "execution_count": null,
   "id": "975659b3",
   "metadata": {},
   "outputs": [],
   "source": [
    "# gtr_rates"
   ]
  },
  {
   "cell_type": "code",
   "execution_count": null,
   "id": "746668e4",
   "metadata": {},
   "outputs": [],
   "source": [
    "# s[\"f\"].mean(0)"
   ]
  },
  {
   "cell_type": "code",
   "execution_count": null,
   "id": "eeb2513f",
   "metadata": {},
   "outputs": [],
   "source": [
    "# gtr_freqs"
   ]
  },
  {
   "cell_type": "code",
   "execution_count": 20,
   "id": "2071ea73",
   "metadata": {},
   "outputs": [
    {
     "data": {
      "text/plain": [
       "<Figure size 640x480 with 0 Axes>"
      ]
     },
     "metadata": {},
     "output_type": "display_data"
    },
    {
     "data": {
      "image/png": "[encoded data removed]",
      "text/plain": [
       "<Figure size 1000x300 with 2 Axes>"
      ]
     },
     "metadata": {},
     "output_type": "display_data"
    }
   ],
   "source": [
    "plot_grads_weights_epochs(r, 'b_encoder', False, sizefont=10, fig_size=(10,3))"
   ]
  },
  {
   "cell_type": "code",
   "execution_count": null,
   "id": "51a76122",
   "metadata": {},
   "outputs": [],
   "source": [
    "# plot_grads_weights_epochs(r, 't_encoder', False, sizefont=10, fig_size=(10,3))"
   ]
  },
  {
   "cell_type": "code",
   "execution_count": null,
   "id": "924af536",
   "metadata": {},
   "outputs": [],
   "source": [
    "# plot_grads_weights_epochs(r, 'r_encoder', False, sizefont=10, fig_size=(10,3))"
   ]
  },
  {
   "cell_type": "code",
   "execution_count": null,
   "id": "9d161299",
   "metadata": {},
   "outputs": [],
   "source": [
    "# plot_grads_weights_epochs(r, 'f_encoder', False, sizefont=10, fig_size=(10,3))"
   ]
  }
 ],
 "metadata": {
  "kernelspec": {
   "display_name": "t111",
   "language": "python",
   "name": "t111"
  },
  "language_info": {
   "codemirror_mode": {
    "name": "ipython",
    "version": 3
   },
   "file_extension": ".py",
   "mimetype": "text/x-python",
   "name": "python",
   "nbconvert_exporter": "python",
   "pygments_lexer": "ipython3",
   "version": "3.10.6"
  }
 },
 "nbformat": 4,
 "nbformat_minor": 5
}
