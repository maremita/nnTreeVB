{
 "cells": [
  {
   "cell_type": "code",
   "execution_count": null,
   "id": "28d2a387",
   "metadata": {},
   "outputs": [],
   "source": [
    "%load_ext autoreload\n",
    "%autoreload 2"
   ]
  },
  {
   "cell_type": "code",
   "execution_count": null,
   "id": "746eb77b",
   "metadata": {},
   "outputs": [],
   "source": [
    "from nnTreeVB.data import evolve_seqs_full_homogeneity                                              \n",
    "from nnTreeVB.data import build_tree_from_nwk\n",
    "from nnTreeVB.data import SeqCollection\n",
    "from nnTreeVB.data import build_msa_categorical\n",
    "\n",
    "from nnTreeVB.models import VB_nnTree\n",
    "# from nnTreeVB.models.vb_models.vb_nntree import VB_nnTree\n",
    "\n",
    "\n",
    "\n",
    "import time\n",
    "import math\n",
    "import random\n",
    "from pprint import pprint\n",
    "from collections import OrderedDict\n",
    "\n",
    "import numpy as np\n",
    "import torch\n",
    "import torch.nn as nn\n",
    "# import torch.nn.functional as F\n",
    "\n",
    "import matplotlib.pyplot as plt\n",
    "# import matplotlib.ticker as ticker\n",
    "\n",
    "# import logomaker as lm\n",
    "# import pandas as pd\n",
    "# import seaborn as sns\n",
    "\n",
    "%matplotlib inline\n",
    "\n",
    "# torch.use_deterministic_algorithms(True)\n",
    "torch.set_printoptions(precision=4, sci_mode=False)"
   ]
  },
  {
   "cell_type": "code",
   "execution_count": null,
   "id": "5208b1b0",
   "metadata": {},
   "outputs": [],
   "source": [
    "import warnings\n",
    "warnings.filterwarnings(\"ignore\", category=DeprecationWarning) \n",
    "warnings.filterwarnings(\"ignore\", category=UserWarning)"
   ]
  },
  {
   "cell_type": "markdown",
   "id": "95b2574d",
   "metadata": {},
   "source": [
    "## Alignment simulation"
   ]
  },
  {
   "cell_type": "code",
   "execution_count": null,
   "id": "dd22d380",
   "metadata": {},
   "outputs": [],
   "source": [
    "verbose = True"
   ]
  },
  {
   "cell_type": "code",
   "execution_count": null,
   "id": "4323829a",
   "metadata": {},
   "outputs": [],
   "source": [
    "# Data preparation\n",
    "alignment_len = 1000\n",
    "\n",
    "str_tree = \"(((1:0.3,2:0.7)N1:0.15,3:0.2)N2:0.1,4:0.4);\"\n",
    "# str_tree = \"(((tx1:0.3,tx2:0.7)N1:0.15,tx3:0.2)N2:0.1,tx4:0.4);\"\n",
    "# str_tree = \"(tx2:1.0411,tx4:0.8121,(tx1:1.1242,tx3:0.9130)N1:1.1095);\"\n",
    "# str_tree = \"((1:0.3,2:0.7)N1:0.15,3:0.2,4:0.4);\"\n",
    "# str_tree = \"((tx2:0.3,tx1:0.7)N1:0.15,tx3:0.2);\"\n",
    "# str_tree = \"(1:0.1,2:0.2,3:0.3,4:0.4);\"\n",
    "\n",
    "#            \"AG\"  \"AC\"  \"AT\"  \"GC\"  \"GT\" \"CT\"\n",
    "sim_rates = [0.16, 0.05, 0.16, 0.09, 0.3, 0.24]\n",
    "evo_rates = [0.16, 0.05, 0.16, 0.09, 0.3, 0.24]\n",
    "\n",
    "#             A     C    G     T\n",
    "sim_freqs = [0.1, 0.45, 0.3, 0.15]\n",
    "#             A     G    C     T\n",
    "evo_freqs = [0.1, 0.3, 0.45, 0.15]\n",
    "\n",
    "\n",
    "ete_tree, taxa, nodes = build_tree_from_nwk(str_tree)\n",
    "\n",
    "all_seqdict = evolve_seqs_full_homogeneity(\n",
    "        str_tree,\n",
    "        fasta_file=None,\n",
    "        nb_sites=alignment_len,\n",
    "        subst_rates=sim_rates,\n",
    "        state_freqs=sim_freqs,\n",
    "        return_anc=True,\n",
    "        verbose=verbose)\n",
    "\n",
    "sequences = [all_seqdict[s] for s in taxa]"
   ]
  },
  {
   "cell_type": "code",
   "execution_count": null,
   "id": "0f39b65a",
   "metadata": {},
   "outputs": [],
   "source": [
    "device = torch.device(\"cpu\")\n",
    "# # device = torch.device(\"cuda\")"
   ]
  },
  {
   "cell_type": "code",
   "execution_count": null,
   "id": "4b6ebd88",
   "metadata": {},
   "outputs": [],
   "source": [
    "gtr_freqs = torch.tensor(evo_freqs)\n",
    "print(\"\\nFrequencies\")\n",
    "print(gtr_freqs)\n",
    "print(gtr_freqs.sum())\n",
    "\n",
    "gtr_rates = torch.tensor(evo_rates) # AG, AC, AT, GC, GT, CT\n",
    "print(\"\\nRelative rates\")\n",
    "print(gtr_rates)\n",
    "print(gtr_rates.sum())"
   ]
  },
  {
   "cell_type": "code",
   "execution_count": null,
   "id": "608cc491",
   "metadata": {},
   "outputs": [],
   "source": [
    "true_branches = torch.zeros(len(ete_tree.get_descendants()))\n",
    "# print(true_branches.shape[0])\n",
    "\n",
    "for node in ete_tree.traverse(\"postorder\"):\n",
    "\n",
    "    if node.rank < true_branches.shape[0]:\n",
    "#         print(node.name, node.rank, node.dist)\n",
    "        true_branches[node.rank] = node.dist\n",
    "\n",
    "true_branches = true_branches.unsqueeze(-1)\n",
    "print(\"\\ntrue_branches\")\n",
    "print(true_branches)\n",
    "print(true_branches.sum())"
   ]
  },
  {
   "cell_type": "code",
   "execution_count": null,
   "id": "2dbfde6c",
   "metadata": {},
   "outputs": [],
   "source": [
    "motifs_cats = build_msa_categorical(sequences)\n",
    "X = torch.from_numpy(motifs_cats.data)\n",
    "V = X.clone().detach()\n",
    "V_counts = torch.ones(V.shape[0]).detach()\n",
    "# X_counts = torch.ones(X.shape[0])\n",
    "X, X_counts = X.unique(dim=0, return_counts=True)\n",
    "\n",
    "print(X.shape)\n",
    "print(X_counts)"
   ]
  },
  {
   "cell_type": "markdown",
   "id": "b1d4e866",
   "metadata": {},
   "source": [
    "## nnTreeVB model initialization"
   ]
  },
  {
   "cell_type": "code",
   "execution_count": null,
   "id": "cc7aa8d4",
   "metadata": {},
   "outputs": [],
   "source": [
    "# Hyper parameters\n",
    "seed = 798\n",
    "torch.manual_seed(seed)\n",
    "np.random.seed(seed)\n",
    "random.seed(seed)\n",
    "\n",
    "x_dim = 4\n",
    "# Number of sequences\n",
    "m_dim = len(ete_tree.get_leaf_names())\n",
    "# Number of internal nodes\n",
    "a_dim = len(ete_tree.get_descendants()) - m_dim + 1\n",
    "# Number of branches\n",
    "b_dim = len(ete_tree.get_edges()) - 1\n",
    "\n",
    "h_dim = 32\n",
    "nb_layers = 3\n",
    "\n",
    "ancestor_prior_hp = (torch.ones(4)/4).tolist()\n",
    "# ancestor_prior_hp = torch.tensor([f_A, f_G, f_C, f_T])\n",
    "\n",
    "# branch_prior_hp = torch.tensor([0.1, 0.1])\n",
    "# branch_prior_hp = torch.tensor([0.1, 1.])\n",
    "branch_prior_hp = [1.]*b_dim\n",
    "\n",
    "# branch_prior_hp = torch.tensor(get_lognorm_params(0.01, 0.01))\n",
    "# branch_prior_hp = torch.tensor(get_lognorm_params(*compute_branch_mean_std(b_str)))\n",
    "\n",
    "tl_prior_hp = torch.tensor([1., 1.]).tolist()\n",
    "\n",
    "kappa_prior_hp = torch.tensor([0.1, 0.1]).tolist()\n",
    "\n",
    "rates_prior_hp = torch.ones(6).tolist() # Dirichlet\n",
    "# rates_prior_hp = torch.ones(6)/6 # Cat\n",
    "# rates_prior_hp = torch.tensor([m_AG, m_AC, m_AT, m_CG, m_GT, m_CT]) # AG, AC, AT, GC, GT, CT\n",
    "freqs_prior_hp = torch.ones(4).tolist() # Dirichlet\n",
    "# freqs_prior_hp = torch.tensor([f_A, f_G, f_C, f_T])\n",
    "\n",
    "# alpha_kl = 0.0001\n",
    "print(m_dim)"
   ]
  },
  {
   "cell_type": "code",
   "execution_count": null,
   "id": "3514b439",
   "metadata": {},
   "outputs": [],
   "source": [
    "evoModel = VB_nnTree(\n",
    "    x_dim,\n",
    "    m_dim,\n",
    "    b_dim,\n",
    "    a_dim,\n",
    "    subs_model=\"hky\",  # jc69 | k80 | hky | gtr\n",
    "    predict_ancestors=False,\n",
    "    \n",
    "    # branch lengths\n",
    "#     b_encoder_type=\"gamma_ind\",\n",
    "#     b_init_distr=[0.1, 0.1],\n",
    "#     b_hp=branch_prior_hp,\n",
    "\n",
    "    ## Compound branch lengths\n",
    "    b_encoder_type=\"dirichlet_ind\",\n",
    "    b_init_distr=[1.]*b_dim,\n",
    "    b_hp=branch_prior_hp,\n",
    "    # Tree lengths\n",
    "    t_encoder_type=\"gamma_ind\",\n",
    "    t_init_distr=[1., 1.],\n",
    "    t_hp=tl_prior_hp,\n",
    "    \n",
    "    # kappa\n",
    "    k_encoder_type=\"gamma_nn_ind\",\n",
    "    k_init_distr=[1., 0.1],\n",
    "    k_hp=kappa_prior_hp,\n",
    "    \n",
    "    # rates\n",
    "    r_encoder_type=\"dirichlet_ind\",\n",
    "    r_init_distr=[1.]*6,\n",
    "    r_hp=rates_prior_hp,\n",
    "    \n",
    "    # frequencies\n",
    "    f_encoder_type=\"dirichlet_ind\",\n",
    "    f_init_distr=[1.]*4,\n",
    "    f_hp=freqs_prior_hp,\n",
    "    \n",
    "    #\n",
    "    h_dim=h_dim,\n",
    "    nb_layers=nb_layers,\n",
    "    device=device\n",
    ")"
   ]
  },
  {
   "cell_type": "code",
   "execution_count": null,
   "id": "95af4376",
   "metadata": {},
   "outputs": [],
   "source": [
    "# Fitting parameters\n",
    "n_epochs = 1000\n",
    "learning_rate = 0.005\n",
    "weight_decay = 0.00001\n",
    "\n",
    "nb_samples = 10\n",
    "sample_temp=0.1"
   ]
  },
  {
   "cell_type": "markdown",
   "id": "439a9c02",
   "metadata": {},
   "source": [
    "## nnTreeVB model fitting"
   ]
  },
  {
   "cell_type": "code",
   "execution_count": null,
   "id": "089022ec",
   "metadata": {
    "scrolled": false
   },
   "outputs": [],
   "source": [
    "r = evoModel.fit(\n",
    "    ete_tree, \n",
    "    X, \n",
    "    X_counts,\n",
    "    latent_sample_size=nb_samples,\n",
    "    max_iter=n_epochs,\n",
    "    optim=\"adam\",\n",
    "    optim_learning_rate=learning_rate,\n",
    "    optim_weight_decay=weight_decay,\n",
    "    keep_fit_history=True,\n",
    "    verbose=verbose\n",
    ")"
   ]
  },
  {
   "cell_type": "code",
   "execution_count": null,
   "id": "a416b3ec",
   "metadata": {},
   "outputs": [],
   "source": [
    "r.keys()"
   ]
  }
 ],
 "metadata": {
  "kernelspec": {
   "display_name": "t111",
   "language": "python",
   "name": "t111"
  },
  "language_info": {
   "codemirror_mode": {
    "name": "ipython",
    "version": 3
   },
   "file_extension": ".py",
   "mimetype": "text/x-python",
   "name": "python",
   "nbconvert_exporter": "python",
   "pygments_lexer": "ipython3",
   "version": "3.10.4"
  }
 },
 "nbformat": 4,
 "nbformat_minor": 5
}
