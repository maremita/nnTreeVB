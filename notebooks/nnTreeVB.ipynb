{
 "cells": [
  {
   "cell_type": "code",
   "execution_count": 7,
   "id": "746eb77b",
   "metadata": {},
   "outputs": [],
   "source": [
    "from nnTreeVB.data import evolve_seqs_full_homogeneity                                              \n",
    "from nnTreeVB.data import build_tree_from_nwk\n",
    "from nnTreeVB.data import SeqCollection\n",
    "from nnTreeVB.data import build_msa_categorical\n",
    "\n",
    "import time\n",
    "import math\n",
    "import random\n",
    "from pprint import pprint\n",
    "from collections import OrderedDict\n",
    "\n",
    "import numpy as np\n",
    "import torch\n",
    "import torch.nn as nn\n",
    "# import torch.nn.functional as F\n",
    "\n",
    "import matplotlib.pyplot as plt\n",
    "# import matplotlib.ticker as ticker\n",
    "\n",
    "# import logomaker as lm\n",
    "# import pandas as pd\n",
    "# import seaborn as sns\n",
    "\n",
    "%matplotlib inline\n",
    "\n",
    "# torch.use_deterministic_algorithms(True)\n",
    "torch.set_printoptions(precision=4, sci_mode=False)"
   ]
  },
  {
   "cell_type": "markdown",
   "id": "95b2574d",
   "metadata": {},
   "source": [
    "### Dataset alignment"
   ]
  },
  {
   "cell_type": "code",
   "execution_count": 3,
   "id": "dd22d380",
   "metadata": {},
   "outputs": [],
   "source": [
    "verbose = True"
   ]
  },
  {
   "cell_type": "code",
   "execution_count": 8,
   "id": "4323829a",
   "metadata": {},
   "outputs": [
    {
     "ename": "NameError",
     "evalue": "name 'OrderedDict' is not defined",
     "output_type": "error",
     "traceback": [
      "\u001b[0;31m---------------------------------------------------------------------------\u001b[0m",
      "\u001b[0;31mNameError\u001b[0m                                 Traceback (most recent call last)",
      "Input \u001b[0;32mIn [8]\u001b[0m, in \u001b[0;36m<cell line: 21>\u001b[0;34m()\u001b[0m\n\u001b[1;32m     17\u001b[0m \u001b[38;5;66;03m#             A     G    C     T\u001b[39;00m\n\u001b[1;32m     18\u001b[0m evo_freqs \u001b[38;5;241m=\u001b[39m [\u001b[38;5;241m0.1\u001b[39m, \u001b[38;5;241m0.3\u001b[39m, \u001b[38;5;241m0.45\u001b[39m, \u001b[38;5;241m0.15\u001b[39m]\n\u001b[0;32m---> 21\u001b[0m ete_tree, taxa, nodes \u001b[38;5;241m=\u001b[39m \u001b[43mbuild_tree_from_nwk\u001b[49m\u001b[43m(\u001b[49m\u001b[43mstr_tree\u001b[49m\u001b[43m)\u001b[49m\n\u001b[1;32m     23\u001b[0m sequences \u001b[38;5;241m=\u001b[39m evolve_seqs_full_homogeneity(\n\u001b[1;32m     24\u001b[0m         str_tree,\n\u001b[1;32m     25\u001b[0m         fasta_file\u001b[38;5;241m=\u001b[39m\u001b[38;5;28;01mNone\u001b[39;00m,\n\u001b[0;32m   (...)\u001b[0m\n\u001b[1;32m     29\u001b[0m         return_anc\u001b[38;5;241m=\u001b[39m\u001b[38;5;28;01mTrue\u001b[39;00m,\n\u001b[1;32m     30\u001b[0m         verbose\u001b[38;5;241m=\u001b[39mverbose)\n",
      "File \u001b[0;32m~/Projects/Thesis/Software/nnTreeVB/nnTreeVB/data/simulations.py:32\u001b[0m, in \u001b[0;36mbuild_tree_from_nwk\u001b[0;34m(nwk_tree)\u001b[0m\n\u001b[1;32m     28\u001b[0m \u001b[38;5;28;01mdef\u001b[39;00m \u001b[38;5;21mbuild_tree_from_nwk\u001b[39m(nwk_tree):\n\u001b[1;32m     30\u001b[0m     tree \u001b[38;5;241m=\u001b[39m Tree(nwk_tree, \u001b[38;5;28mformat\u001b[39m\u001b[38;5;241m=\u001b[39m\u001b[38;5;241m1\u001b[39m)\n\u001b[0;32m---> 32\u001b[0m     leaves \u001b[38;5;241m=\u001b[39m \u001b[43mOrderedDict\u001b[49m()\n\u001b[1;32m     33\u001b[0m     internals \u001b[38;5;241m=\u001b[39m OrderedDict()\n\u001b[1;32m     35\u001b[0m     i, j, k\u001b[38;5;241m=\u001b[39m \u001b[38;5;241m0\u001b[39m, \u001b[38;5;28mlen\u001b[39m(tree), \u001b[38;5;241m0\u001b[39m\n",
      "\u001b[0;31mNameError\u001b[0m: name 'OrderedDict' is not defined"
     ]
    }
   ],
   "source": [
    "# Data preparation\n",
    "alignment_len = 1000\n",
    "\n",
    "str_tree = \"(((1:0.3,2:0.7)N1:0.15,3:0.2)N2:0.1,4:0.4);\"\n",
    "# str_tree = \"(((tx1:0.3,tx2:0.7)N1:0.15,tx3:0.2)N2:0.1,tx4:0.4);\"\n",
    "# str_tree = \"(tx2:1.0411,tx4:0.8121,(tx1:1.1242,tx3:0.9130)N1:1.1095);\"\n",
    "# str_tree = \"((1:0.3,2:0.7)N1:0.15,3:0.2,4:0.4);\"\n",
    "# str_tree = \"((tx2:0.3,tx1:0.7)N1:0.15,tx3:0.2);\"\n",
    "# str_tree = \"(1:0.1,2:0.2,3:0.3,4:0.4);\"\n",
    "\n",
    "#            \"AG\"  \"AC\"  \"AT\"  \"GC\"  \"GT\" \"CT\"\n",
    "sim_rates = [0.16, 0.05, 0.16, 0.09, 0.3, 0.24]\n",
    "evo_rates = [0.16, 0.05, 0.16, 0.09, 0.3, 0.24]\n",
    "\n",
    "#             A     C    G     T\n",
    "sim_freqs = [0.1, 0.45, 0.3, 0.15]\n",
    "#             A     G    C     T\n",
    "evo_freqs = [0.1, 0.3, 0.45, 0.15]\n",
    "\n",
    "\n",
    "ete_tree, taxa, nodes = build_tree_from_nwk(str_tree)\n",
    "\n",
    "sequences = evolve_seqs_full_homogeneity(\n",
    "        str_tree,\n",
    "        fasta_file=None,\n",
    "        nb_sites=alignment_len,\n",
    "        subst_rates=sim_rates,\n",
    "        state_freqs=sim_freqs,\n",
    "        return_anc=True,\n",
    "        verbose=verbose)"
   ]
  },
  {
   "cell_type": "code",
   "execution_count": null,
   "id": "0f39b65a",
   "metadata": {},
   "outputs": [],
   "source": [
    "# device = torch.device(\"cpu\")\n",
    "# # device = torch.device(\"cuda\")"
   ]
  },
  {
   "cell_type": "code",
   "execution_count": null,
   "id": "4b6ebd88",
   "metadata": {},
   "outputs": [],
   "source": [
    "gtr_freqs = torch.tensor(evo_freqs)\n",
    "print(\"\\nFrequencies\")\n",
    "print(gtr_freqs)\n",
    "print(gtr_freqs.sum())\n",
    "\n",
    "gtr_rates = torch.tensor(evo_rates) # AG, AC, AT, GC, GT, CT\n",
    "print(\"\\nRelative rates\")\n",
    "print(gtr_rates)\n",
    "print(gtr_rates.sum())"
   ]
  },
  {
   "cell_type": "code",
   "execution_count": null,
   "id": "608cc491",
   "metadata": {},
   "outputs": [],
   "source": [
    "true_branches = torch.zeros(len(ete_tree.get_descendants()))\n",
    "# print(true_branches.shape[0])\n",
    "\n",
    "for node in ete_tree.traverse(\"postorder\"):\n",
    "\n",
    "    if node.rank < true_branches.shape[0]:\n",
    "#         print(node.name, node.rank, node.dist)\n",
    "        true_branches[node.rank] = node.dist\n",
    "\n",
    "true_branches = true_branches.unsqueeze(-1)\n",
    "print(\"\\ntrue_branches\")\n",
    "print(true_branches)\n",
    "print(true_branches.sum())"
   ]
  }
 ],
 "metadata": {
  "kernelspec": {
   "display_name": "t111",
   "language": "python",
   "name": "t111"
  },
  "language_info": {
   "codemirror_mode": {
    "name": "ipython",
    "version": 3
   },
   "file_extension": ".py",
   "mimetype": "text/x-python",
   "name": "python",
   "nbconvert_exporter": "python",
   "pygments_lexer": "ipython3",
   "version": "3.10.4"
  }
 },
 "nbformat": 4,
 "nbformat_minor": 5
}
