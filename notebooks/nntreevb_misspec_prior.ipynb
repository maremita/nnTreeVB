{
 "cells": [
  {
   "cell_type": "markdown",
   "id": "4e6a0774",
   "metadata": {},
   "source": [
    "## Example of the affect of defining misspecified prior densities on branch lengths\n",
    "\n",
    "Amine Remita"
   ]
  },
  {
   "cell_type": "code",
   "execution_count": 1,
   "id": "28d2a387",
   "metadata": {},
   "outputs": [
    {
     "name": "stdout",
     "output_type": "stream",
     "text": [
      "The autoreload extension is already loaded. To reload it, use:\n",
      "  %reload_ext autoreload\n"
     ]
    }
   ],
   "source": [
    "%load_ext autoreload\n",
    "%autoreload 2"
   ]
  },
  {
   "cell_type": "code",
   "execution_count": 2,
   "id": "8e6aeba9",
   "metadata": {},
   "outputs": [],
   "source": [
    "from nnTreeVB.data import evolve_seqs_full_homogeneity    \n",
    "from nnTreeVB.data import build_tree_from_nwk\n",
    "from nnTreeVB.data import simulate_tree\n",
    "from nnTreeVB.data import build_msa_categorical\n",
    "from nnTreeVB.data import TreeSeqCollection\n",
    "#\n",
    "from nnTreeVB.checks import check_sim_blengths\n",
    "from nnTreeVB.checks import check_sim_simplex\n",
    "#\n",
    "from nnTreeVB.reports import plot_weights_grads_epochs\n",
    "from nnTreeVB.reports import violinplot_from_dataframe\n",
    "#\n",
    "from nnTreeVB.models.vb_models import VB_nnTree\n",
    "from nnTreeVB.models.evo_models import compute_log_likelihood"
   ]
  },
  {
   "cell_type": "code",
   "execution_count": 3,
   "id": "746eb77b",
   "metadata": {},
   "outputs": [],
   "source": [
    "import time\n",
    "import math\n",
    "import random\n",
    "import copy\n",
    "from pprint import pprint\n",
    "from collections import OrderedDict\n",
    "\n",
    "from Bio import SeqIO\n",
    "from Bio.SeqRecord import SeqRecord\n",
    "from Bio.Seq import Seq\n",
    "\n",
    "import numpy as np\n",
    "import pandas as pd\n",
    "import torch\n",
    "import torch.nn as nn\n",
    "\n",
    "from scipy import stats\n",
    "\n",
    "np.set_printoptions(precision=5)"
   ]
  },
  {
   "cell_type": "code",
   "execution_count": 4,
   "id": "5208b1b0",
   "metadata": {},
   "outputs": [],
   "source": [
    "import warnings\n",
    "warnings.filterwarnings(\"ignore\", category=DeprecationWarning) \n",
    "warnings.filterwarnings(\"ignore\", category=UserWarning)\n",
    "warnings.filterwarnings('ignore', \"r'All-NaN (slice|axis) encountered'\")"
   ]
  },
  {
   "cell_type": "code",
   "execution_count": 5,
   "id": "dd22d380",
   "metadata": {},
   "outputs": [],
   "source": [
    "verbose = True\n",
    "\n",
    "device = torch.device(\"cpu\")\n",
    "# # device = torch.device(\"cuda\")"
   ]
  },
  {
   "cell_type": "code",
   "execution_count": 6,
   "id": "b3d66759",
   "metadata": {},
   "outputs": [],
   "source": [
    "# seed = 49685\n",
    "seed = 42\n",
    "torch.manual_seed(seed)\n",
    "np.random.seed(seed)\n",
    "random.seed(seed)"
   ]
  },
  {
   "cell_type": "markdown",
   "id": "95b2574d",
   "metadata": {},
   "source": [
    "## Sequence alignment simulation"
   ]
  },
  {
   "cell_type": "code",
   "execution_count": 7,
   "id": "833cbab6",
   "metadata": {},
   "outputs": [],
   "source": [
    "## Define a function to simulate complete dataset (sequence alignment + tree)\n",
    "## Branch lengths will be sampled from an exponential distribution with a mean defined by the user\n",
    "## We use JC69 model to simulate the evolution of the sequences\n",
    "\n",
    "def simulate_jc69_exp_blens_dataset(\n",
    "    fasta_file,\n",
    "    tree_file,\n",
    "    alignment_len=1000,\n",
    "    nb_taxa=32,\n",
    "    blen_mean=0.001):\n",
    "\n",
    "    # Simulate branch lengts\n",
    "    rate = 1 / blen_mean\n",
    "    sim_blengths = check_sim_blengths(\"exponential({})\".format(rate), nb_taxa)[0]\n",
    "\n",
    "    print(\"Simulated brench lengths:\")\n",
    "    print(\"Number: {}\".format(len(sim_blengths)))\n",
    "    print(\"Mean: {}\".format(np.mean(sim_blengths)))\n",
    "    print(\"Variance: {}\".format(np.var(sim_blengths)))\n",
    "    print(\"Tree length: {}\".format(np.sum(sim_blengths)))\n",
    "\n",
    "    # Simulate tree\n",
    "    tree_data = simulate_tree(nb_taxa, sim_blengths, seed)\n",
    "\n",
    "    the_tree = tree_data[0]\n",
    "    taxa = list(tree_data[1].keys())\n",
    "\n",
    "    str_tree = the_tree.write(format=1) # get newick string\n",
    "    the_tree.write(format=1, outfile=tree_file)\n",
    "    \n",
    "    # Sequence evolutionary parameters simulation\n",
    "    # uniform distributed substitution rates\n",
    "    sim_rates = check_sim_simplex(\"0.166\", 6)[0]\n",
    "\n",
    "    # uniform distributed relative frequencies\n",
    "    sim_freqs = check_sim_simplex(\"0.25\", 4)[0]\n",
    "    sim_freqs[1], sim_freqs[2] = sim_freqs[2], sim_freqs[1] # order of nuc is different in pyvolve\n",
    "\n",
    "    # Sequence simulation using pyvolve\n",
    "    all_seqdict = evolve_seqs_full_homogeneity(\n",
    "        str_tree,\n",
    "        fasta_file=False,\n",
    "        nb_sites=alignment_len,\n",
    "        subst_rates=sim_rates,\n",
    "        state_freqs=sim_freqs,\n",
    "        return_anc=True,\n",
    "        verbose=verbose)\n",
    "\n",
    "    sequences = [all_seqdict[s] for s in taxa]\n",
    "    seq_taxa = {s:all_seqdict[s] for s in taxa}\n",
    "    \n",
    "    # write fasta file\n",
    "    records = [SeqRecord(Seq(seq_taxa[taxon]), taxon, '', '') for taxon in seq_taxa]\n",
    "    SeqIO.write(records, fasta_file, \"fasta\")\n",
    "    \n",
    "    # Extract branch lengths from the tree\n",
    "    true_branches = torch.zeros(len(the_tree.get_descendants()))\n",
    "    # print(true_branches.shape[0])\n",
    "\n",
    "    for node in the_tree.traverse(\"postorder\"):\n",
    "\n",
    "        if node.postrank < true_branches.shape[0]:\n",
    "    #         print(node.name, node.rank, node.dist)\n",
    "            true_branches[node.postrank] = node.dist\n",
    "\n",
    "    true_branches = true_branches.unsqueeze(-1)\n",
    "    print(\"\\ntrue_branches\")\n",
    "    print(len(true_branches))\n",
    "    print(true_branches.sum())\n",
    "\n",
    "    # Build a treeSeq collection\n",
    "    treeseqs = TreeSeqCollection(fasta_file, tree_file)\n",
    "    tree_obj = treeseqs.tree\n",
    "    logl_tree = copy.deepcopy(tree_obj)\n",
    "    \n",
    "    # Compress the alignment to get the site patterns\n",
    "    motifs_cats = build_msa_categorical(treeseqs, nuc_cat=False)\n",
    "    x = torch.from_numpy(motifs_cats.data)\n",
    "    x, x_counts = x.unique(dim=0, return_counts=True)\n",
    "\n",
    "    # Compute log-likelihood\n",
    "    tm_args = {\"b\":true_branches.unsqueeze(0).squeeze(2)}\n",
    "    freqs = torch.ones(4)/4\n",
    "\n",
    "    with torch.no_grad():\n",
    "        true_lls = (compute_log_likelihood(\n",
    "            logl_tree,\n",
    "            x,\n",
    "            \"jc69\",\n",
    "            tm_args,\n",
    "            freqs,\n",
    "            rescaled_algo=True) * x_counts).sum()\n",
    "\n",
    "    print(\"Log likelihood {}\".format(true_lls))\n",
    "\n",
    "    return true_branches, tree_obj, x, x_counts"
   ]
  },
  {
   "cell_type": "code",
   "execution_count": 9,
   "id": "20a0abb8",
   "metadata": {},
   "outputs": [
    {
     "name": "stdout",
     "output_type": "stream",
     "text": [
      "Simulated brench lengths:\n",
      "Number: 61\n",
      "Mean: 0.0008526261552825608\n",
      "Variance: 1.2449080591739317e-06\n",
      "Tree length: 0.05201019547223621\n",
      "Evolving sequences with the amazing Pyvolve\n",
      "\n",
      "true_branches\n",
      "61\n",
      "tensor(0.0520)\n",
      "Log likelihood -1882.594482421875\n"
     ]
    }
   ],
   "source": [
    "## Test function\n",
    "fasta_file = 'sim.fasta'\n",
    "tree_file = 'sim.nw'\n",
    "\n",
    "blens, obj_tree, X, X_counts = simulate_jc69_exp_blens_dataset(\n",
    "    fasta_file,\n",
    "    tree_file,\n",
    "    alignment_len=1000,\n",
    "    nb_taxa=32,\n",
    "    blen_mean=0.001)"
   ]
  },
  {
   "cell_type": "markdown",
   "id": "a293f842",
   "metadata": {},
   "source": [
    "## Fitting and sampling nnTreeVB models"
   ]
  },
  {
   "cell_type": "code",
   "execution_count": 37,
   "id": "2297f523",
   "metadata": {},
   "outputs": [],
   "source": [
    "def fit_sample_vb_jc69_model(\n",
    "    # init and fit hyperparams\n",
    "    tree_obj,\n",
    "    x,\n",
    "    x_counts,\n",
    "    #\n",
    "    b_prior_dist=\"exponential\",\n",
    "    b_prior_params=[10.],\n",
    "    b_learn_prior=False,\n",
    "    #\n",
    "    elbo_type=\"elbo\",\n",
    "    grad_samples=torch.Size([1]),\n",
    "    alpha_kl=1.,\n",
    "    max_iter=1000,\n",
    "    optimizer=\"adam\",\n",
    "    learning_rate=0.1,\n",
    "    weight_decay=0.0,\n",
    "    scheduler_lambda=lambda epoch: 1.0,\n",
    "    save_fit_history=False,\n",
    "    save_grad_stats=False,\n",
    "    save_weight_stats=False,\n",
    "    verbose=2,\n",
    "\n",
    "    # sampling hyperparams\n",
    "    nb_samples = torch.Size([1000])\n",
    "):\n",
    "    print(\"\\tInitialize the model\")\n",
    "    \n",
    "    model = VB_nnTree(\n",
    "        copy.deepcopy(tree_obj),\n",
    "        subs_model=\"jc69\",\n",
    "        ## branch length prior\n",
    "        b_prior_dist=b_prior_dist,\n",
    "        b_prior_params=b_prior_params,\n",
    "        b_learn_prior=b_learn_prior,\n",
    "        ## branch length variational\n",
    "        b_var_dist=\"normal\",\n",
    "        b_var_params=[0.1, 0.1],\n",
    "        b_var_transform=torch.distributions.ExpTransform(),\n",
    "        ##\n",
    "        device=\"cpu\"\n",
    "    )\n",
    "    \n",
    "    print(\"\\tFit the model\")\n",
    "\n",
    "    model.fit(\n",
    "        x, \n",
    "        x_counts,\n",
    "        elbo_type=elbo_type,\n",
    "        grad_samples=grad_samples,\n",
    "        alpha_kl=alpha_kl,\n",
    "        max_iter=max_iter,\n",
    "        optimizer=optimizer,\n",
    "        learning_rate=learning_rate,\n",
    "        weight_decay=weight_decay,\n",
    "        scheduler_lambda=scheduler_lambda,\n",
    "        save_fit_history=save_fit_history,\n",
    "        save_grad_stats=save_grad_stats,\n",
    "        save_weight_stats=save_weight_stats,\n",
    "        verbose=verbose\n",
    "    )\n",
    "    \n",
    "    print(\"\\tSample from the model\")\n",
    "    \n",
    "    samples = model.sample(\n",
    "        x, \n",
    "        x_counts,\n",
    "        elbo_type=elbo_type,\n",
    "        alpha_kl=alpha_kl,\n",
    "        nb_samples=nb_samples\n",
    "    )\n",
    "    \n",
    "    return model, samples"
   ]
  },
  {
   "cell_type": "code",
   "execution_count": 11,
   "id": "9b4e72dc",
   "metadata": {
    "scrolled": true
   },
   "outputs": [
    {
     "name": "stdout",
     "output_type": "stream",
     "text": [
      "Initialize the model\n",
      "Fit the model\n",
      "0m 0s\tEpoch: 10\tELBO: -26514.857\tLogL: -26276.906\tLogP: -136.999\tLogQ: 100.952\tKL: 237.951\n",
      "0m 0s\tEpoch: 20\tELBO: -11824.472\tLogL: -11694.390\tLogP: 35.619\tLogQ: 165.700\tKL: 130.082\n",
      "0m 0s\tEpoch: 30\tELBO: -6549.374\tLogL: -6416.412\tLogP: 91.548\tLogQ: 224.510\tKL: 132.963\n",
      "0m 0s\tEpoch: 40\tELBO: -4598.688\tLogL: -4460.218\tLogP: 111.918\tLogQ: 250.389\tKL: 138.471\n",
      "0m 0s\tEpoch: 50\tELBO: -3795.634\tLogL: -3638.077\tLogP: 120.455\tLogQ: 278.012\tKL: 157.557\n",
      "0m 0s\tEpoch: 60\tELBO: -3368.721\tLogL: -3214.218\tLogP: 124.873\tLogQ: 279.376\tKL: 154.503\n",
      "0m 0s\tEpoch: 70\tELBO: -3124.042\tLogL: -2963.875\tLogP: 127.485\tLogQ: 287.652\tKL: 160.167\n",
      "0m 0s\tEpoch: 80\tELBO: -2937.297\tLogL: -2759.968\tLogP: 129.659\tLogQ: 306.988\tKL: 177.329\n",
      "0m 1s\tEpoch: 90\tELBO: -2820.698\tLogL: -2649.013\tLogP: 130.857\tLogQ: 302.542\tKL: 171.685\n",
      "0m 1s\tEpoch: 100\tELBO: -2759.169\tLogL: -2578.277\tLogP: 131.623\tLogQ: 312.515\tKL: 180.892\n",
      "0m 1s\tEpoch: 110\tELBO: -2680.677\tLogL: -2503.590\tLogP: 132.416\tLogQ: 309.504\tKL: 177.087\n",
      "0m 1s\tEpoch: 120\tELBO: -2584.001\tLogL: -2416.278\tLogP: 133.351\tLogQ: 301.074\tKL: 167.723\n",
      "0m 1s\tEpoch: 130\tELBO: -2510.223\tLogL: -2330.083\tLogP: 134.311\tLogQ: 314.451\tKL: 180.140\n",
      "0m 1s\tEpoch: 140\tELBO: -2493.683\tLogL: -2314.856\tLogP: 134.442\tLogQ: 313.269\tKL: 178.827\n",
      "0m 1s\tEpoch: 150\tELBO: -2447.097\tLogL: -2275.046\tLogP: 134.879\tLogQ: 306.930\tKL: 172.051\n",
      "0m 2s\tEpoch: 160\tELBO: -2396.853\tLogL: -2221.010\tLogP: 135.453\tLogQ: 311.296\tKL: 175.843\n",
      "0m 2s\tEpoch: 170\tELBO: -2383.367\tLogL: -2215.545\tLogP: 135.549\tLogQ: 303.370\tKL: 167.822\n",
      "0m 2s\tEpoch: 180\tELBO: -2352.068\tLogL: -2179.193\tLogP: 135.957\tLogQ: 308.832\tKL: 172.875\n",
      "0m 2s\tEpoch: 190\tELBO: -2322.550\tLogL: -2152.070\tLogP: 136.241\tLogQ: 306.721\tKL: 170.480\n",
      "0m 2s\tEpoch: 200\tELBO: -2317.459\tLogL: -2142.548\tLogP: 136.383\tLogQ: 311.294\tKL: 174.911\n",
      "0m 2s\tEpoch: 210\tELBO: -2311.231\tLogL: -2139.325\tLogP: 136.440\tLogQ: 308.347\tKL: 171.907\n",
      "0m 2s\tEpoch: 220\tELBO: -2278.115\tLogL: -2106.196\tLogP: 136.831\tLogQ: 308.750\tKL: 171.919\n",
      "0m 2s\tEpoch: 230\tELBO: -2268.177\tLogL: -2097.057\tLogP: 136.861\tLogQ: 307.981\tKL: 171.120\n",
      "0m 3s\tEpoch: 240\tELBO: -2256.761\tLogL: -2086.419\tLogP: 137.011\tLogQ: 307.353\tKL: 170.342\n",
      "0m 3s\tEpoch: 250\tELBO: -2244.802\tLogL: -2079.105\tLogP: 137.108\tLogQ: 302.806\tKL: 165.697\n",
      "0m 3s\tEpoch: 260\tELBO: -2240.472\tLogL: -2074.734\tLogP: 137.224\tLogQ: 302.962\tKL: 165.738\n",
      "0m 3s\tEpoch: 270\tELBO: -2220.928\tLogL: -2053.827\tLogP: 137.449\tLogQ: 304.550\tKL: 167.101\n",
      "0m 3s\tEpoch: 280\tELBO: -2199.367\tLogL: -2015.951\tLogP: 137.880\tLogQ: 321.296\tKL: 183.416\n",
      "0m 3s\tEpoch: 290\tELBO: -2208.810\tLogL: -2051.384\tLogP: 137.480\tLogQ: 294.907\tKL: 157.426\n",
      "0m 3s\tEpoch: 300\tELBO: -2175.841\tLogL: -2001.239\tLogP: 138.046\tLogQ: 312.649\tKL: 174.602\n",
      "0m 3s\tEpoch: 310\tELBO: -2208.736\tLogL: -2050.999\tLogP: 137.463\tLogQ: 295.200\tKL: 157.737\n",
      "0m 3s\tEpoch: 320\tELBO: -2189.989\tLogL: -2017.408\tLogP: 137.903\tLogQ: 310.484\tKL: 172.581\n",
      "0m 4s\tEpoch: 330\tELBO: -2180.129\tLogL: -2015.234\tLogP: 137.949\tLogQ: 302.844\tKL: 164.896\n",
      "0m 4s\tEpoch: 340\tELBO: -2167.320\tLogL: -1990.259\tLogP: 138.186\tLogQ: 315.247\tKL: 177.060\n",
      "0m 4s\tEpoch: 350\tELBO: -2172.531\tLogL: -2005.316\tLogP: 137.959\tLogQ: 305.175\tKL: 167.215\n",
      "0m 4s\tEpoch: 360\tELBO: -2153.037\tLogL: -1975.450\tLogP: 138.367\tLogQ: 315.954\tKL: 177.587\n",
      "0m 4s\tEpoch: 370\tELBO: -2165.010\tLogL: -1995.078\tLogP: 138.109\tLogQ: 308.041\tKL: 169.932\n",
      "0m 4s\tEpoch: 380\tELBO: -2148.063\tLogL: -1967.363\tLogP: 138.449\tLogQ: 319.149\tKL: 180.700\n",
      "0m 4s\tEpoch: 390\tELBO: -2154.576\tLogL: -1981.452\tLogP: 138.296\tLogQ: 311.420\tKL: 173.124\n",
      "0m 4s\tEpoch: 400\tELBO: -2151.496\tLogL: -1972.966\tLogP: 138.378\tLogQ: 316.909\tKL: 178.530\n",
      "0m 5s\tEpoch: 410\tELBO: -2140.227\tLogL: -1957.665\tLogP: 138.534\tLogQ: 321.096\tKL: 182.562\n",
      "0m 5s\tEpoch: 420\tELBO: -2150.091\tLogL: -1983.325\tLogP: 138.243\tLogQ: 305.009\tKL: 166.767\n",
      "0m 5s\tEpoch: 430\tELBO: -2153.422\tLogL: -1988.239\tLogP: 138.301\tLogQ: 303.484\tKL: 165.184\n",
      "0m 5s\tEpoch: 440\tELBO: -2143.845\tLogL: -1969.018\tLogP: 138.515\tLogQ: 313.341\tKL: 174.827\n",
      "0m 5s\tEpoch: 450\tELBO: -2132.955\tLogL: -1948.045\tLogP: 138.725\tLogQ: 323.635\tKL: 184.910\n",
      "0m 5s\tEpoch: 460\tELBO: -2128.232\tLogL: -1948.928\tLogP: 138.708\tLogQ: 318.013\tKL: 179.304\n",
      "0m 5s\tEpoch: 470\tELBO: -2130.352\tLogL: -1950.288\tLogP: 138.723\tLogQ: 318.787\tKL: 180.064\n",
      "0m 5s\tEpoch: 480\tELBO: -2139.348\tLogL: -1965.352\tLogP: 138.538\tLogQ: 312.534\tKL: 173.996\n",
      "0m 5s\tEpoch: 490\tELBO: -2132.499\tLogL: -1947.705\tLogP: 138.750\tLogQ: 323.545\tKL: 184.794\n",
      "0m 6s\tEpoch: 500\tELBO: -2123.044\tLogL: -1934.926\tLogP: 138.897\tLogQ: 327.016\tKL: 188.119\n",
      "0m 6s\tEpoch: 510\tELBO: -2121.038\tLogL: -1943.202\tLogP: 138.703\tLogQ: 316.540\tKL: 177.836\n",
      "0m 6s\tEpoch: 520\tELBO: -2128.901\tLogL: -1955.400\tLogP: 138.448\tLogQ: 311.948\tKL: 173.501\n",
      "0m 6s\tEpoch: 530\tELBO: -2130.411\tLogL: -1962.041\tLogP: 138.522\tLogQ: 306.892\tKL: 168.370\n",
      "0m 6s\tEpoch: 540\tELBO: -2130.816\tLogL: -1952.036\tLogP: 138.679\tLogQ: 317.458\tKL: 178.780\n",
      "0m 6s\tEpoch: 550\tELBO: -2141.657\tLogL: -1967.481\tLogP: 138.521\tLogQ: 312.698\tKL: 174.176\n",
      "0m 6s\tEpoch: 560\tELBO: -2114.391\tLogL: -1919.461\tLogP: 139.034\tLogQ: 333.965\tKL: 194.931\n",
      "0m 6s\tEpoch: 570\tELBO: -2120.919\tLogL: -1941.294\tLogP: 138.666\tLogQ: 318.291\tKL: 179.625\n",
      "0m 7s\tEpoch: 580\tELBO: -2128.068\tLogL: -1938.664\tLogP: 138.776\tLogQ: 328.180\tKL: 189.404\n",
      "0m 7s\tEpoch: 590\tELBO: -2123.698\tLogL: -1938.468\tLogP: 138.895\tLogQ: 324.125\tKL: 185.230\n",
      "0m 7s\tEpoch: 600\tELBO: -2123.492\tLogL: -1937.562\tLogP: 138.775\tLogQ: 324.706\tKL: 185.930\n",
      "0m 7s\tEpoch: 610\tELBO: -2125.374\tLogL: -1950.542\tLogP: 138.611\tLogQ: 313.442\tKL: 174.832\n",
      "0m 7s\tEpoch: 620\tELBO: -2119.561\tLogL: -1942.293\tLogP: 138.779\tLogQ: 316.047\tKL: 177.268\n",
      "0m 7s\tEpoch: 630\tELBO: -2117.739\tLogL: -1923.249\tLogP: 138.974\tLogQ: 333.464\tKL: 194.490\n",
      "0m 7s\tEpoch: 640\tELBO: -2112.368\tLogL: -1926.647\tLogP: 138.945\tLogQ: 324.666\tKL: 185.721\n",
      "0m 7s\tEpoch: 650\tELBO: -2117.979\tLogL: -1937.068\tLogP: 138.748\tLogQ: 319.659\tKL: 180.911\n",
      "0m 7s\tEpoch: 660\tELBO: -2114.927\tLogL: -1920.871\tLogP: 139.076\tLogQ: 333.133\tKL: 194.057\n",
      "0m 8s\tEpoch: 670\tELBO: -2122.211\tLogL: -1945.990\tLogP: 138.726\tLogQ: 314.947\tKL: 176.221\n",
      "0m 8s\tEpoch: 680\tELBO: -2117.141\tLogL: -1928.775\tLogP: 138.859\tLogQ: 327.225\tKL: 188.365\n",
      "0m 8s\tEpoch: 690\tELBO: -2116.503\tLogL: -1923.314\tLogP: 139.037\tLogQ: 332.226\tKL: 193.189\n",
      "0m 8s\tEpoch: 700\tELBO: -2120.768\tLogL: -1939.473\tLogP: 138.829\tLogQ: 320.124\tKL: 181.295\n",
      "0m 8s\tEpoch: 710\tELBO: -2114.270\tLogL: -1917.439\tLogP: 139.036\tLogQ: 335.867\tKL: 196.831\n",
      "0m 8s\tEpoch: 720\tELBO: -2111.589\tLogL: -1926.017\tLogP: 139.005\tLogQ: 324.577\tKL: 185.572\n",
      "0m 8s\tEpoch: 730\tELBO: -2119.777\tLogL: -1928.406\tLogP: 139.038\tLogQ: 330.410\tKL: 191.372\n",
      "0m 8s\tEpoch: 740\tELBO: -2113.151\tLogL: -1921.562\tLogP: 138.964\tLogQ: 330.553\tKL: 191.589\n",
      "0m 8s\tEpoch: 750\tELBO: -2114.387\tLogL: -1920.506\tLogP: 138.937\tLogQ: 332.818\tKL: 193.881\n",
      "0m 9s\tEpoch: 760\tELBO: -2114.810\tLogL: -1915.713\tLogP: 139.137\tLogQ: 338.234\tKL: 199.097\n",
      "0m 9s\tEpoch: 770\tELBO: -2117.656\tLogL: -1929.956\tLogP: 139.022\tLogQ: 326.723\tKL: 187.701\n",
      "0m 9s\tEpoch: 780\tELBO: -2116.180\tLogL: -1918.438\tLogP: 139.024\tLogQ: 336.766\tKL: 197.742\n",
      "0m 9s\tEpoch: 790\tELBO: -2111.570\tLogL: -1916.181\tLogP: 139.162\tLogQ: 334.551\tKL: 195.389\n",
      "0m 9s\tEpoch: 800\tELBO: -2116.726\tLogL: -1923.555\tLogP: 139.156\tLogQ: 332.327\tKL: 193.172\n",
      "0m 9s\tEpoch: 810\tELBO: -2118.120\tLogL: -1918.016\tLogP: 139.188\tLogQ: 339.292\tKL: 200.105\n",
      "0m 9s\tEpoch: 820\tELBO: -2117.849\tLogL: -1920.551\tLogP: 139.132\tLogQ: 336.430\tKL: 197.298\n",
      "0m 9s\tEpoch: 830\tELBO: -2111.242\tLogL: -1918.503\tLogP: 139.091\tLogQ: 331.830\tKL: 192.740\n",
      "0m 10s\tEpoch: 840\tELBO: -2117.343\tLogL: -1922.383\tLogP: 138.994\tLogQ: 333.953\tKL: 194.959\n",
      "0m 10s\tEpoch: 850\tELBO: -2116.741\tLogL: -1916.527\tLogP: 139.096\tLogQ: 339.310\tKL: 200.214\n",
      "0m 10s\tEpoch: 860\tELBO: -2119.664\tLogL: -1934.635\tLogP: 138.849\tLogQ: 323.878\tKL: 185.028\n",
      "0m 10s\tEpoch: 870\tELBO: -2116.801\tLogL: -1914.946\tLogP: 139.139\tLogQ: 340.994\tKL: 201.855\n",
      "0m 10s\tEpoch: 880\tELBO: -2110.552\tLogL: -1911.278\tLogP: 139.191\tLogQ: 338.465\tKL: 199.275\n",
      "0m 10s\tEpoch: 890\tELBO: -2114.438\tLogL: -1909.745\tLogP: 139.130\tLogQ: 343.823\tKL: 204.693\n",
      "0m 10s\tEpoch: 900\tELBO: -2108.205\tLogL: -1904.261\tLogP: 139.248\tLogQ: 343.191\tKL: 203.943\n",
      "0m 10s\tEpoch: 910\tELBO: -2110.764\tLogL: -1905.629\tLogP: 139.339\tLogQ: 344.473\tKL: 205.135\n",
      "0m 10s\tEpoch: 920\tELBO: -2121.242\tLogL: -1933.091\tLogP: 138.961\tLogQ: 327.112\tKL: 188.151\n",
      "0m 11s\tEpoch: 930\tELBO: -2122.694\tLogL: -1932.899\tLogP: 138.872\tLogQ: 328.667\tKL: 189.795\n"
     ]
    },
    {
     "name": "stdout",
     "output_type": "stream",
     "text": [
      "0m 11s\tEpoch: 940\tELBO: -2106.690\tLogL: -1909.318\tLogP: 139.196\tLogQ: 336.568\tKL: 197.372\n",
      "0m 11s\tEpoch: 950\tELBO: -2115.282\tLogL: -1919.546\tLogP: 139.179\tLogQ: 334.915\tKL: 195.737\n",
      "0m 11s\tEpoch: 960\tELBO: -2111.099\tLogL: -1911.484\tLogP: 139.110\tLogQ: 338.725\tKL: 199.614\n",
      "0m 11s\tEpoch: 970\tELBO: -2112.819\tLogL: -1900.544\tLogP: 139.349\tLogQ: 351.624\tKL: 212.275\n",
      "0m 11s\tEpoch: 980\tELBO: -2107.829\tLogL: -1908.854\tLogP: 139.298\tLogQ: 338.274\tKL: 198.976\n",
      "0m 11s\tEpoch: 990\tELBO: -2108.321\tLogL: -1908.147\tLogP: 139.275\tLogQ: 339.449\tKL: 200.174\n",
      "0m 11s\tEpoch: 1000\tELBO: -2107.131\tLogL: -1904.050\tLogP: 139.254\tLogQ: 342.335\tKL: 203.082\n",
      "\n",
      "Optimization rate 1.0\n",
      "Sample from the model\n"
     ]
    }
   ],
   "source": [
    "## Test function\n",
    "model, samples = fit_sample_vb_jc69_model(obj_tree, X, X_counts)"
   ]
  },
  {
   "cell_type": "code",
   "execution_count": 12,
   "id": "498caee8",
   "metadata": {
    "scrolled": true
   },
   "outputs": [
    {
     "name": "stdout",
     "output_type": "stream",
     "text": [
      "-1912.2811\n",
      "0.12924062\n"
     ]
    }
   ],
   "source": [
    "print(samples[\"logl\"])\n",
    "print(samples[\"b\"].mean(0).sum())"
   ]
  },
  {
   "cell_type": "markdown",
   "id": "359974fc",
   "metadata": {},
   "source": [
    "## Comparison 1. Branch lengths estimation"
   ]
  },
  {
   "cell_type": "code",
   "execution_count": 138,
   "id": "9bb90327",
   "metadata": {},
   "outputs": [],
   "source": [
    "# Hyperparams of prior densities\n",
    "\n",
    "prior_hyperparams = [[\"exponential\", 0.1, False, \"FPD(0.1)\", \"tomato\"],\n",
    "                     [\"exponential\", 0.01, False, \"FPD(0.01)\", \"tomato\"],\n",
    "                     [\"exponential\", 0.001, False, \"FPD(0.001)\", \"tomato\"],\n",
    "                     [\"exponential\", \"uniform\", True, \"LPD\", \"turquoise\"],\n",
    "                     [\"exponential_nn\", \"uniform\", True, \"NPD\", \"lightseagreen\"]\n",
    "                    ]\n",
    "\n",
    "model_names = [m[3] for m in prior_hyperparams]\n",
    "model_colors = [m[4] for m in prior_hyperparams]"
   ]
  },
  {
   "cell_type": "markdown",
   "id": "3ee3129c",
   "metadata": {},
   "source": [
    "### 1. Simulate a dataset"
   ]
  },
  {
   "cell_type": "code",
   "execution_count": 116,
   "id": "ee60f543",
   "metadata": {},
   "outputs": [],
   "source": [
    "exp_mean_blens = 0.1\n",
    "str_exp_mean = str(exp_mean_blens).replace(\".\", \"\")\n",
    "aln_size = 1000\n",
    "taxa_size = 32"
   ]
  },
  {
   "cell_type": "code",
   "execution_count": 117,
   "id": "5b77de5a",
   "metadata": {},
   "outputs": [
    {
     "name": "stdout",
     "output_type": "stream",
     "text": [
      "Simulated brench lengths:\n",
      "Number: 61\n",
      "Mean: 0.0967310263662419\n",
      "Variance: 0.009188692075019472\n",
      "Tree length: 5.900592608340756\n",
      "Evolving sequences with the amazing Pyvolve\n",
      "\n",
      "true_branches\n",
      "61\n",
      "tensor(5.9006)\n",
      "Log likelihood -21789.7734375\n"
     ]
    }
   ],
   "source": [
    "# Generate a dataset\n",
    "fasta_file = 'sim_blens_{}_l{}_t{}.fasta'.format(str_exp_mean, aln_size, taxa_size)\n",
    "tree_file = 'sim_blens_{}_l{}_t{}.nw'.format(str_exp_mean, aln_size, taxa_size)\n",
    "\n",
    "blens, obj_tree, X, X_counts = simulate_jc69_exp_blens_dataset(\n",
    "    fasta_file,\n",
    "    tree_file,\n",
    "    alignment_len=aln_size,\n",
    "    nb_taxa=taxa_size,\n",
    "    blen_mean=exp_mean_blens)"
   ]
  },
  {
   "cell_type": "markdown",
   "id": "799303db",
   "metadata": {},
   "source": [
    "### 2. Fit and sample VB models w/ different prior densities"
   ]
  },
  {
   "cell_type": "code",
   "execution_count": 118,
   "id": "1d864b48",
   "metadata": {
    "scrolled": true
   },
   "outputs": [
    {
     "name": "stdout",
     "output_type": "stream",
     "text": [
      "\n",
      "VB model FPD(0.1)\n",
      "\tInitialize the model\n",
      "\tFit the model\n",
      "\tSample from the model\n",
      "\n",
      "VB model FPD(0.01)\n",
      "\tInitialize the model\n",
      "\tFit the model\n",
      "\tSample from the model\n",
      "\n",
      "VB model FPD(0.001)\n",
      "\tInitialize the model\n",
      "\tFit the model\n",
      "\tSample from the model\n",
      "\n",
      "VB model LPD\n",
      "\tInitialize the model\n",
      "\tFit the model\n",
      "\tSample from the model\n",
      "\n",
      "VB model NPD\n",
      "\tInitialize the model\n",
      "\tFit the model\n",
      "\tSample from the model\n"
     ]
    }
   ],
   "source": [
    "# Fit and sample multiple VB models with different prior densities\n",
    "blen_samples = []\n",
    "for i in range(len(prior_hyperparams)):\n",
    "    print(\"\\nVB model {}\".format(prior_hyperparams[i][3]))\n",
    "\n",
    "    model, samples = fit_sample_vb_jc69_model(obj_tree, X, X_counts, \n",
    "                                              b_prior_dist=prior_hyperparams[i][0],\n",
    "                                              b_prior_params=prior_hyperparams[i][1],\n",
    "                                              b_learn_prior=prior_hyperparams[i][2],\n",
    "                                              verbose=1)\n",
    "    \n",
    "    blen_samples.append(samples[\"b\"])"
   ]
  },
  {
   "cell_type": "markdown",
   "id": "871ef92a",
   "metadata": {},
   "source": [
    "### 3. Mean of branch lenghts comparison"
   ]
  },
  {
   "cell_type": "code",
   "execution_count": 119,
   "id": "149ecb6a",
   "metadata": {},
   "outputs": [
    {
     "data": {
      "text/plain": [
       "(5, 1000)"
      ]
     },
     "execution_count": 119,
     "metadata": {},
     "output_type": "execute_result"
    }
   ],
   "source": [
    "blens_mean = np.array([s.mean(1) for s in blen_samples])\n",
    "blens_mean.shape"
   ]
  },
  {
   "cell_type": "code",
   "execution_count": 120,
   "id": "a266a2ce",
   "metadata": {},
   "outputs": [
    {
     "data": {
      "text/plain": [
       "(1000, 5)"
      ]
     },
     "execution_count": 120,
     "metadata": {},
     "output_type": "execute_result"
    }
   ],
   "source": [
    "blens_mean = np.vstack(blens_mean).T\n",
    "blens_mean.shape"
   ]
  },
  {
   "cell_type": "code",
   "execution_count": 121,
   "id": "8ebb4b94",
   "metadata": {},
   "outputs": [
    {
     "data": {
      "text/html": [
       "<div>\n",
       "<style scoped>\n",
       "    .dataframe tbody tr th:only-of-type {\n",
       "        vertical-align: middle;\n",
       "    }\n",
       "\n",
       "    .dataframe tbody tr th {\n",
       "        vertical-align: top;\n",
       "    }\n",
       "\n",
       "    .dataframe thead th {\n",
       "        text-align: right;\n",
       "    }\n",
       "</style>\n",
       "<table border=\"1\" class=\"dataframe\">\n",
       "  <thead>\n",
       "    <tr style=\"text-align: right;\">\n",
       "      <th></th>\n",
       "      <th>FPD(0.1)</th>\n",
       "      <th>FPD(0.01)</th>\n",
       "      <th>FPD(0.001)</th>\n",
       "      <th>LPD</th>\n",
       "      <th>NPD</th>\n",
       "    </tr>\n",
       "  </thead>\n",
       "  <tbody>\n",
       "    <tr>\n",
       "      <th>count</th>\n",
       "      <td>1000.000000</td>\n",
       "      <td>1000.000000</td>\n",
       "      <td>1000.000000</td>\n",
       "      <td>1000.000000</td>\n",
       "      <td>1000.000000</td>\n",
       "    </tr>\n",
       "    <tr>\n",
       "      <th>mean</th>\n",
       "      <td>0.098813</td>\n",
       "      <td>0.097688</td>\n",
       "      <td>0.097723</td>\n",
       "      <td>0.098858</td>\n",
       "      <td>0.096852</td>\n",
       "    </tr>\n",
       "    <tr>\n",
       "      <th>std</th>\n",
       "      <td>0.001559</td>\n",
       "      <td>0.001487</td>\n",
       "      <td>0.001458</td>\n",
       "      <td>0.001694</td>\n",
       "      <td>0.001390</td>\n",
       "    </tr>\n",
       "    <tr>\n",
       "      <th>min</th>\n",
       "      <td>0.094031</td>\n",
       "      <td>0.092891</td>\n",
       "      <td>0.092608</td>\n",
       "      <td>0.094471</td>\n",
       "      <td>0.091726</td>\n",
       "    </tr>\n",
       "    <tr>\n",
       "      <th>25%</th>\n",
       "      <td>0.097763</td>\n",
       "      <td>0.096729</td>\n",
       "      <td>0.096731</td>\n",
       "      <td>0.097715</td>\n",
       "      <td>0.095916</td>\n",
       "    </tr>\n",
       "    <tr>\n",
       "      <th>50%</th>\n",
       "      <td>0.098808</td>\n",
       "      <td>0.097635</td>\n",
       "      <td>0.097751</td>\n",
       "      <td>0.098819</td>\n",
       "      <td>0.096833</td>\n",
       "    </tr>\n",
       "    <tr>\n",
       "      <th>75%</th>\n",
       "      <td>0.099787</td>\n",
       "      <td>0.098697</td>\n",
       "      <td>0.098680</td>\n",
       "      <td>0.100020</td>\n",
       "      <td>0.097781</td>\n",
       "    </tr>\n",
       "    <tr>\n",
       "      <th>max</th>\n",
       "      <td>0.104351</td>\n",
       "      <td>0.102438</td>\n",
       "      <td>0.102889</td>\n",
       "      <td>0.106235</td>\n",
       "      <td>0.101699</td>\n",
       "    </tr>\n",
       "  </tbody>\n",
       "</table>\n",
       "</div>"
      ],
      "text/plain": [
       "          FPD(0.1)    FPD(0.01)   FPD(0.001)          LPD          NPD\n",
       "count  1000.000000  1000.000000  1000.000000  1000.000000  1000.000000\n",
       "mean      0.098813     0.097688     0.097723     0.098858     0.096852\n",
       "std       0.001559     0.001487     0.001458     0.001694     0.001390\n",
       "min       0.094031     0.092891     0.092608     0.094471     0.091726\n",
       "25%       0.097763     0.096729     0.096731     0.097715     0.095916\n",
       "50%       0.098808     0.097635     0.097751     0.098819     0.096833\n",
       "75%       0.099787     0.098697     0.098680     0.100020     0.097781\n",
       "max       0.104351     0.102438     0.102889     0.106235     0.101699"
      ]
     },
     "execution_count": 121,
     "metadata": {},
     "output_type": "execute_result"
    }
   ],
   "source": [
    "df_bl_mean = pd.DataFrame(data=blens_mean, columns=model_names)\n",
    "df_bl_mean.describe()"
   ]
  },
  {
   "cell_type": "code",
   "execution_count": 155,
   "id": "8ec2d4f9",
   "metadata": {},
   "outputs": [
    {
     "data": {
      "image/png": "[encoded data removed]",
      "text/plain": [
       "<Figure size 800x500 with 1 Axes>"
      ]
     },
     "metadata": {},
     "output_type": "display_data"
    }
   ],
   "source": [
    "true_blen_mean = blens.mean().item() # horizontal line\n",
    "violinplot_from_dataframe(df_bl_mean, \n",
    "                          line=true_blen_mean, \n",
    "                          y_limit=[0.09, None], \n",
    "                          xlabel=\"VB models\", \n",
    "                          ylabel=\"Mean branch lengths\",\n",
    "                          palette=model_colors,\n",
    "                          xticks_rotation=0\n",
    "                         )"
   ]
  },
  {
   "cell_type": "markdown",
   "id": "34b8159b",
   "metadata": {},
   "source": [
    "### 4. Total tree length comparison"
   ]
  },
  {
   "cell_type": "code",
   "execution_count": 123,
   "id": "d5d1b148",
   "metadata": {},
   "outputs": [
    {
     "data": {
      "text/plain": [
       "(5, 1000)"
      ]
     },
     "execution_count": 123,
     "metadata": {},
     "output_type": "execute_result"
    }
   ],
   "source": [
    "tree_lens = np.array([s.sum(1) for s in blen_samples])\n",
    "tree_lens.shape"
   ]
  },
  {
   "cell_type": "code",
   "execution_count": 124,
   "id": "8c0768bf",
   "metadata": {},
   "outputs": [
    {
     "data": {
      "text/plain": [
       "(1000, 5)"
      ]
     },
     "execution_count": 124,
     "metadata": {},
     "output_type": "execute_result"
    }
   ],
   "source": [
    "tree_lens = np.vstack(tree_lens).T\n",
    "tree_lens.shape"
   ]
  },
  {
   "cell_type": "code",
   "execution_count": 125,
   "id": "ca35e164",
   "metadata": {},
   "outputs": [
    {
     "data": {
      "text/html": [
       "<div>\n",
       "<style scoped>\n",
       "    .dataframe tbody tr th:only-of-type {\n",
       "        vertical-align: middle;\n",
       "    }\n",
       "\n",
       "    .dataframe tbody tr th {\n",
       "        vertical-align: top;\n",
       "    }\n",
       "\n",
       "    .dataframe thead th {\n",
       "        text-align: right;\n",
       "    }\n",
       "</style>\n",
       "<table border=\"1\" class=\"dataframe\">\n",
       "  <thead>\n",
       "    <tr style=\"text-align: right;\">\n",
       "      <th></th>\n",
       "      <th>FPD(0.1)</th>\n",
       "      <th>FPD(0.01)</th>\n",
       "      <th>FPD(0.001)</th>\n",
       "      <th>LPD</th>\n",
       "      <th>NPD</th>\n",
       "    </tr>\n",
       "  </thead>\n",
       "  <tbody>\n",
       "    <tr>\n",
       "      <th>count</th>\n",
       "      <td>1000.000000</td>\n",
       "      <td>1000.000000</td>\n",
       "      <td>1000.000000</td>\n",
       "      <td>1000.000000</td>\n",
       "      <td>1000.000000</td>\n",
       "    </tr>\n",
       "    <tr>\n",
       "      <th>mean</th>\n",
       "      <td>6.027622</td>\n",
       "      <td>5.958987</td>\n",
       "      <td>5.961129</td>\n",
       "      <td>6.030353</td>\n",
       "      <td>5.907985</td>\n",
       "    </tr>\n",
       "    <tr>\n",
       "      <th>std</th>\n",
       "      <td>0.095082</td>\n",
       "      <td>0.090690</td>\n",
       "      <td>0.088957</td>\n",
       "      <td>0.103324</td>\n",
       "      <td>0.084790</td>\n",
       "    </tr>\n",
       "    <tr>\n",
       "      <th>min</th>\n",
       "      <td>5.735914</td>\n",
       "      <td>5.666352</td>\n",
       "      <td>5.649107</td>\n",
       "      <td>5.762721</td>\n",
       "      <td>5.595316</td>\n",
       "    </tr>\n",
       "    <tr>\n",
       "      <th>25%</th>\n",
       "      <td>5.963553</td>\n",
       "      <td>5.900461</td>\n",
       "      <td>5.900616</td>\n",
       "      <td>5.960612</td>\n",
       "      <td>5.850867</td>\n",
       "    </tr>\n",
       "    <tr>\n",
       "      <th>50%</th>\n",
       "      <td>6.027309</td>\n",
       "      <td>5.955729</td>\n",
       "      <td>5.962811</td>\n",
       "      <td>6.027935</td>\n",
       "      <td>5.906835</td>\n",
       "    </tr>\n",
       "    <tr>\n",
       "      <th>75%</th>\n",
       "      <td>6.087031</td>\n",
       "      <td>6.020503</td>\n",
       "      <td>6.019478</td>\n",
       "      <td>6.101239</td>\n",
       "      <td>5.964631</td>\n",
       "    </tr>\n",
       "    <tr>\n",
       "      <th>max</th>\n",
       "      <td>6.365421</td>\n",
       "      <td>6.248727</td>\n",
       "      <td>6.276254</td>\n",
       "      <td>6.480310</td>\n",
       "      <td>6.203651</td>\n",
       "    </tr>\n",
       "  </tbody>\n",
       "</table>\n",
       "</div>"
      ],
      "text/plain": [
       "          FPD(0.1)    FPD(0.01)   FPD(0.001)          LPD          NPD\n",
       "count  1000.000000  1000.000000  1000.000000  1000.000000  1000.000000\n",
       "mean      6.027622     5.958987     5.961129     6.030353     5.907985\n",
       "std       0.095082     0.090690     0.088957     0.103324     0.084790\n",
       "min       5.735914     5.666352     5.649107     5.762721     5.595316\n",
       "25%       5.963553     5.900461     5.900616     5.960612     5.850867\n",
       "50%       6.027309     5.955729     5.962811     6.027935     5.906835\n",
       "75%       6.087031     6.020503     6.019478     6.101239     5.964631\n",
       "max       6.365421     6.248727     6.276254     6.480310     6.203651"
      ]
     },
     "execution_count": 125,
     "metadata": {},
     "output_type": "execute_result"
    }
   ],
   "source": [
    "df_tl = pd.DataFrame(data=tree_lens, columns=model_names)\n",
    "df_tl.describe()"
   ]
  },
  {
   "cell_type": "code",
   "execution_count": 151,
   "id": "45511c54",
   "metadata": {},
   "outputs": [
    {
     "data": {
      "image/png": "[encoded data removed]",
      "text/plain": [
       "<Figure size 800x500 with 1 Axes>"
      ]
     },
     "metadata": {},
     "output_type": "display_data"
    }
   ],
   "source": [
    "# import seaborn as sns\n",
    "true_tree_len = blens.sum().item() # horizontal line\n",
    "violinplot_from_dataframe(df_tl, \n",
    "                          line=true_tree_len, \n",
    "                          y_limit=[5.5, None],\n",
    "                          xlabel=\"VB models\", \n",
    "                          ylabel=\"Total tree length\",\n",
    "                          palette=model_colors,\n",
    "                          xticks_rotation=0\n",
    "                         )"
   ]
  },
  {
   "cell_type": "markdown",
   "id": "ccc3c143",
   "metadata": {},
   "source": [
    "## Comparison 2."
   ]
  },
  {
   "cell_type": "code",
   "execution_count": null,
   "id": "5e456f6a",
   "metadata": {},
   "outputs": [],
   "source": []
  }
 ],
 "metadata": {
  "kernelspec": {
   "display_name": "t111",
   "language": "python",
   "name": "t111"
  },
  "language_info": {
   "codemirror_mode": {
    "name": "ipython",
    "version": 3
   },
   "file_extension": ".py",
   "mimetype": "text/x-python",
   "name": "python",
   "nbconvert_exporter": "python",
   "pygments_lexer": "ipython3",
   "version": "3.10.6"
  }
 },
 "nbformat": 4,
 "nbformat_minor": 5
}
